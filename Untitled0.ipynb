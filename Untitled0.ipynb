{
  "nbformat": 4,
  "nbformat_minor": 0,
  "metadata": {
    "colab": {
      "provenance": [],
      "authorship_tag": "ABX9TyMPRYOADBC9TbM3UvDL+Fml",
      "include_colab_link": true
    },
    "kernelspec": {
      "name": "python3",
      "display_name": "Python 3"
    },
    "language_info": {
      "name": "python"
    }
  },
  "cells": [
    {
      "cell_type": "markdown",
      "metadata": {
        "id": "view-in-github",
        "colab_type": "text"
      },
      "source": [
        "<a href=\"https://colab.research.google.com/github/startei/ai-cover/blob/main/Untitled0.ipynb\" target=\"_parent\"><img src=\"https://colab.research.google.com/assets/colab-badge.svg\" alt=\"Open In Colab\"/></a>"
      ]
    },
    {
      "cell_type": "markdown",
      "source": [
        "GPU Kontrolü"
      ],
      "metadata": {
        "id": "JCEBWqKyINbv"
      }
    },
    {
      "cell_type": "code",
      "execution_count": 1,
      "metadata": {
        "colab": {
          "base_uri": "https://localhost:8080/"
        },
        "id": "6jPrKxgsILV-",
        "outputId": "ca17d720-ae17-44cb-da07-b7fca55d46b2"
      },
      "outputs": [
        {
          "output_type": "stream",
          "name": "stdout",
          "text": [
            "/bin/bash: line 1: nvidia-smi: command not found\n"
          ]
        }
      ],
      "source": [
        "!nvidia-smi"
      ]
    },
    {
      "cell_type": "markdown",
      "source": [
        "Program Colab üzerinden çalıştığından Drive ile bağlanma"
      ],
      "metadata": {
        "id": "U1Fz7_oyIgys"
      }
    },
    {
      "cell_type": "code",
      "source": [
        "from google.colab import drive\n",
        "drive.mount('/content/drive')"
      ],
      "metadata": {
        "colab": {
          "base_uri": "https://localhost:8080/"
        },
        "id": "q7QixsY5Ig_c",
        "outputId": "19caa438-c610-4eaf-df29-3ab577fb4151"
      },
      "execution_count": 2,
      "outputs": [
        {
          "output_type": "stream",
          "name": "stdout",
          "text": [
            "Mounted at /content/drive\n"
          ]
        }
      ]
    },
    {
      "cell_type": "markdown",
      "source": [
        "Eğitme için gerekli olan kolonilerin indirilmesi(bu kaynakları internetten aldık)"
      ],
      "metadata": {
        "id": "aaNXm0keSgVU"
      }
    },
    {
      "cell_type": "code",
      "source": [
        "!pip install pyworld==0.3.2\n",
        "!python -m pip install -U pip wheel\n",
        "%pip install -U ipython\n",
        "%pip install -U so-vits-svc-fork\n",
        "!mkdir drive/MyDrive/so-vits-svc-fork"
      ],
      "metadata": {
        "id": "nXtTEkkYSSi5"
      },
      "execution_count": null,
      "outputs": []
    },
    {
      "cell_type": "markdown",
      "source": [
        "Eğitim kısmı(Örnek olarak müzik yüklemediğimizden,ses-model-ensturmental kısımlarını yazılmış başka bir koddan kopyaladık,program eğitimi tamamlayamıyor ancak prototip olduğundan bu kısım daha sonra geliştirilebilir.)"
      ],
      "metadata": {
        "id": "HbYPq69eTvkC"
      }
    },
    {
      "cell_type": "code",
      "source": [
        "!svc pre-resample\n",
        "!svc pre-config\n",
        "!cp configs/44k/config.json drive/MyDrive/so-vits-svc-fork\n",
        "%load_ext tensorboard\n",
        "%tensorboard --logdir drive/MyDrive/so-vits-svc-fork/logs/44k\n",
        "!svc train --model-path drive/MyDrive/so-vits-svc-fork/logs/44k#eğitimin başladığı kısım\n",
        "from IPython.display import Audio\n",
        "\n",
        "AUDIO = \"/content/separated/htdemucs/audio/vocals\" #@param {type:\"string\"} #sesi drive üzerinden çekme ve eğitme\n",
        "MODEL = \"/content/drive/MyDrive/so-vits-svc-fork/logs/44k/G_178.pth\" #@param {type:\"string\"} #vokal modelini drive üzerinden çekme ve eğitme\n",
        "CONFIG = \"/content/drive/MyDrive/so-vits-svc-fork/logs/44k/config.json\" #@param {type:\"string\"} #driveile bağlantı kurma\n",
        "#@markdown Change According to Your Voice Tone. 12 = 1 Octave | -12 = -1 Octave\n",
        "PITCH = 0 #@param {type:\"integer\"}\n",
        "!svc infer {AUDIO}.wav -c {CONFIG} -m {MODEL} -na -t {PITCH}#çıkarımı yapma kısmı"
      ],
      "metadata": {
        "id": "OC7YdTQ4Tvr-"
      },
      "execution_count": null,
      "outputs": []
    },
    {
      "cell_type": "markdown",
      "source": [
        "şarkıyı ensturmantel ve vokal olarak ayırma model ile birleştirme ve yeniden birleştirme"
      ],
      "metadata": {
        "id": "YutmgF95Ihb0"
      }
    },
    {
      "cell_type": "code",
      "source": [
        "!pip install pydub\n",
        "from pydub import AudioSegment\n",
        "\n",
        "VOCAL = \"/content/separated/htdemucs/audio/vocals.out.wav\" #@param {type:\"string\"}\n",
        "INSTRUMENT = \"/content/separated/htdemucs/audio/no_vocals.wav\" #@param {type:\"string\"}#müzik ve vokal çağırılır\n",
        "\n",
        "sound1 = AudioSegment.from_file(VOCAL)\n",
        "sound2 = AudioSegment.from_file(INSTRUMENT)\n",
        "\n",
        "combined = sound1.overlay(sound2)#vokal ile müzik üst üste getirilerek birleştirilir\n",
        "\n",
        "combined.export(\"/content/FinalCover.wav\", format='wav')\n",
        "try:\n",
        "  display(Audio(f\"{AUDIO}.out.wav\", autoplay=True))\n",
        "except Exception as e:  print(\"Error:\", str(e))\n"
      ],
      "metadata": {
        "id": "LA8inHXzIhj8"
      },
      "execution_count": null,
      "outputs": []
    }
  ]
}